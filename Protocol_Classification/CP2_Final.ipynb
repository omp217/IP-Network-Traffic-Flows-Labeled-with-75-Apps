{
  "nbformat": 4,
  "nbformat_minor": 0,
  "metadata": {
    "colab": {
      "provenance": []
    },
    "kernelspec": {
      "name": "python3",
      "display_name": "Python 3"
    },
    "language_info": {
      "name": "python"
    }
  },
  "cells": [
    {
      "cell_type": "code",
      "execution_count": 42,
      "metadata": {
        "id": "szdNOgbpWLEM"
      },
      "outputs": [],
      "source": [
        "import pandas as pd\n",
        "import numpy as np\n",
        "import matplotlib.pyplot as plt\n",
        "import seaborn as sns"
      ]
    },
    {
      "cell_type": "code",
      "source": [
        "!unzip drive/MyDrive/CP2/archive.zip -d data/"
      ],
      "metadata": {
        "colab": {
          "base_uri": "https://localhost:8080/"
        },
        "id": "OBcZIJOOWcYk",
        "outputId": "9031b097-a292-4f94-ca38-d156ae5b1011"
      },
      "execution_count": 6,
      "outputs": [
        {
          "output_type": "stream",
          "name": "stdout",
          "text": [
            "Archive:  drive/MyDrive/CP2/archive.zip\n",
            "  inflating: data/Dataset-Unicauca-Version2-87Atts.csv  \n"
          ]
        }
      ]
    },
    {
      "cell_type": "code",
      "source": [
        "df = pd.read_csv('data/Dataset-Unicauca-Version2-87Atts.csv', sep=',')"
      ],
      "metadata": {
        "id": "3mFfnZ4YW_fc"
      },
      "execution_count": 23,
      "outputs": []
    },
    {
      "cell_type": "code",
      "source": [
        "df.shape"
      ],
      "metadata": {
        "colab": {
          "base_uri": "https://localhost:8080/"
        },
        "id": "AhNT0URCXQC3",
        "outputId": "984d85b9-c1f7-4132-a0b7-a851ad8cbf75"
      },
      "execution_count": 8,
      "outputs": [
        {
          "output_type": "execute_result",
          "data": {
            "text/plain": [
              "(3577296, 87)"
            ]
          },
          "metadata": {},
          "execution_count": 8
        }
      ]
    },
    {
      "cell_type": "code",
      "source": [
        "df.head()"
      ],
      "metadata": {
        "colab": {
          "base_uri": "https://localhost:8080/",
          "height": 429
        },
        "id": "sCG2eBIDXSc_",
        "outputId": "3d417da6-94f4-4b3b-a4d0-04787e2faee6"
      },
      "execution_count": 9,
      "outputs": [
        {
          "output_type": "execute_result",
          "data": {
            "text/plain": [
              "                                 Flow.ID      Source.IP  Source.Port  \\\n",
              "0    172.19.1.46-10.200.7.7-52422-3128-6    172.19.1.46        52422   \n",
              "1    172.19.1.46-10.200.7.7-52422-3128-6     10.200.7.7         3128   \n",
              "2   10.200.7.217-50.31.185.39-38848-80-6   50.31.185.39           80   \n",
              "3   10.200.7.217-50.31.185.39-38848-80-6   50.31.185.39           80   \n",
              "4  192.168.72.43-10.200.7.7-55961-3128-6  192.168.72.43        55961   \n",
              "\n",
              "  Destination.IP  Destination.Port  Protocol           Timestamp  \\\n",
              "0     10.200.7.7              3128         6  26/04/201711:11:17   \n",
              "1    172.19.1.46             52422         6  26/04/201711:11:17   \n",
              "2   10.200.7.217             38848         6  26/04/201711:11:17   \n",
              "3   10.200.7.217             38848         6  26/04/201711:11:17   \n",
              "4     10.200.7.7              3128         6  26/04/201711:11:17   \n",
              "\n",
              "   Flow.Duration  Total.Fwd.Packets  Total.Backward.Packets  ...  Active.Std  \\\n",
              "0          45523                 22                      55  ...         0.0   \n",
              "1              1                  2                       0  ...         0.0   \n",
              "2              1                  3                       0  ...         0.0   \n",
              "3            217                  1                       3  ...         0.0   \n",
              "4          78068                  5                       0  ...         0.0   \n",
              "\n",
              "   Active.Max  Active.Min  Idle.Mean  Idle.Std  Idle.Max  Idle.Min   Label  \\\n",
              "0         0.0         0.0        0.0       0.0       0.0       0.0  BENIGN   \n",
              "1         0.0         0.0        0.0       0.0       0.0       0.0  BENIGN   \n",
              "2         0.0         0.0        0.0       0.0       0.0       0.0  BENIGN   \n",
              "3         0.0         0.0        0.0       0.0       0.0       0.0  BENIGN   \n",
              "4         0.0         0.0        0.0       0.0       0.0       0.0  BENIGN   \n",
              "\n",
              "   L7Protocol  ProtocolName  \n",
              "0         131    HTTP_PROXY  \n",
              "1         131    HTTP_PROXY  \n",
              "2           7          HTTP  \n",
              "3           7          HTTP  \n",
              "4         131    HTTP_PROXY  \n",
              "\n",
              "[5 rows x 87 columns]"
            ],
            "text/html": [
              "\n",
              "  <div id=\"df-459634c9-fc5e-4111-bcf7-0823b2ca8c53\" class=\"colab-df-container\">\n",
              "    <div>\n",
              "<style scoped>\n",
              "    .dataframe tbody tr th:only-of-type {\n",
              "        vertical-align: middle;\n",
              "    }\n",
              "\n",
              "    .dataframe tbody tr th {\n",
              "        vertical-align: top;\n",
              "    }\n",
              "\n",
              "    .dataframe thead th {\n",
              "        text-align: right;\n",
              "    }\n",
              "</style>\n",
              "<table border=\"1\" class=\"dataframe\">\n",
              "  <thead>\n",
              "    <tr style=\"text-align: right;\">\n",
              "      <th></th>\n",
              "      <th>Flow.ID</th>\n",
              "      <th>Source.IP</th>\n",
              "      <th>Source.Port</th>\n",
              "      <th>Destination.IP</th>\n",
              "      <th>Destination.Port</th>\n",
              "      <th>Protocol</th>\n",
              "      <th>Timestamp</th>\n",
              "      <th>Flow.Duration</th>\n",
              "      <th>Total.Fwd.Packets</th>\n",
              "      <th>Total.Backward.Packets</th>\n",
              "      <th>...</th>\n",
              "      <th>Active.Std</th>\n",
              "      <th>Active.Max</th>\n",
              "      <th>Active.Min</th>\n",
              "      <th>Idle.Mean</th>\n",
              "      <th>Idle.Std</th>\n",
              "      <th>Idle.Max</th>\n",
              "      <th>Idle.Min</th>\n",
              "      <th>Label</th>\n",
              "      <th>L7Protocol</th>\n",
              "      <th>ProtocolName</th>\n",
              "    </tr>\n",
              "  </thead>\n",
              "  <tbody>\n",
              "    <tr>\n",
              "      <th>0</th>\n",
              "      <td>172.19.1.46-10.200.7.7-52422-3128-6</td>\n",
              "      <td>172.19.1.46</td>\n",
              "      <td>52422</td>\n",
              "      <td>10.200.7.7</td>\n",
              "      <td>3128</td>\n",
              "      <td>6</td>\n",
              "      <td>26/04/201711:11:17</td>\n",
              "      <td>45523</td>\n",
              "      <td>22</td>\n",
              "      <td>55</td>\n",
              "      <td>...</td>\n",
              "      <td>0.0</td>\n",
              "      <td>0.0</td>\n",
              "      <td>0.0</td>\n",
              "      <td>0.0</td>\n",
              "      <td>0.0</td>\n",
              "      <td>0.0</td>\n",
              "      <td>0.0</td>\n",
              "      <td>BENIGN</td>\n",
              "      <td>131</td>\n",
              "      <td>HTTP_PROXY</td>\n",
              "    </tr>\n",
              "    <tr>\n",
              "      <th>1</th>\n",
              "      <td>172.19.1.46-10.200.7.7-52422-3128-6</td>\n",
              "      <td>10.200.7.7</td>\n",
              "      <td>3128</td>\n",
              "      <td>172.19.1.46</td>\n",
              "      <td>52422</td>\n",
              "      <td>6</td>\n",
              "      <td>26/04/201711:11:17</td>\n",
              "      <td>1</td>\n",
              "      <td>2</td>\n",
              "      <td>0</td>\n",
              "      <td>...</td>\n",
              "      <td>0.0</td>\n",
              "      <td>0.0</td>\n",
              "      <td>0.0</td>\n",
              "      <td>0.0</td>\n",
              "      <td>0.0</td>\n",
              "      <td>0.0</td>\n",
              "      <td>0.0</td>\n",
              "      <td>BENIGN</td>\n",
              "      <td>131</td>\n",
              "      <td>HTTP_PROXY</td>\n",
              "    </tr>\n",
              "    <tr>\n",
              "      <th>2</th>\n",
              "      <td>10.200.7.217-50.31.185.39-38848-80-6</td>\n",
              "      <td>50.31.185.39</td>\n",
              "      <td>80</td>\n",
              "      <td>10.200.7.217</td>\n",
              "      <td>38848</td>\n",
              "      <td>6</td>\n",
              "      <td>26/04/201711:11:17</td>\n",
              "      <td>1</td>\n",
              "      <td>3</td>\n",
              "      <td>0</td>\n",
              "      <td>...</td>\n",
              "      <td>0.0</td>\n",
              "      <td>0.0</td>\n",
              "      <td>0.0</td>\n",
              "      <td>0.0</td>\n",
              "      <td>0.0</td>\n",
              "      <td>0.0</td>\n",
              "      <td>0.0</td>\n",
              "      <td>BENIGN</td>\n",
              "      <td>7</td>\n",
              "      <td>HTTP</td>\n",
              "    </tr>\n",
              "    <tr>\n",
              "      <th>3</th>\n",
              "      <td>10.200.7.217-50.31.185.39-38848-80-6</td>\n",
              "      <td>50.31.185.39</td>\n",
              "      <td>80</td>\n",
              "      <td>10.200.7.217</td>\n",
              "      <td>38848</td>\n",
              "      <td>6</td>\n",
              "      <td>26/04/201711:11:17</td>\n",
              "      <td>217</td>\n",
              "      <td>1</td>\n",
              "      <td>3</td>\n",
              "      <td>...</td>\n",
              "      <td>0.0</td>\n",
              "      <td>0.0</td>\n",
              "      <td>0.0</td>\n",
              "      <td>0.0</td>\n",
              "      <td>0.0</td>\n",
              "      <td>0.0</td>\n",
              "      <td>0.0</td>\n",
              "      <td>BENIGN</td>\n",
              "      <td>7</td>\n",
              "      <td>HTTP</td>\n",
              "    </tr>\n",
              "    <tr>\n",
              "      <th>4</th>\n",
              "      <td>192.168.72.43-10.200.7.7-55961-3128-6</td>\n",
              "      <td>192.168.72.43</td>\n",
              "      <td>55961</td>\n",
              "      <td>10.200.7.7</td>\n",
              "      <td>3128</td>\n",
              "      <td>6</td>\n",
              "      <td>26/04/201711:11:17</td>\n",
              "      <td>78068</td>\n",
              "      <td>5</td>\n",
              "      <td>0</td>\n",
              "      <td>...</td>\n",
              "      <td>0.0</td>\n",
              "      <td>0.0</td>\n",
              "      <td>0.0</td>\n",
              "      <td>0.0</td>\n",
              "      <td>0.0</td>\n",
              "      <td>0.0</td>\n",
              "      <td>0.0</td>\n",
              "      <td>BENIGN</td>\n",
              "      <td>131</td>\n",
              "      <td>HTTP_PROXY</td>\n",
              "    </tr>\n",
              "  </tbody>\n",
              "</table>\n",
              "<p>5 rows × 87 columns</p>\n",
              "</div>\n",
              "    <div class=\"colab-df-buttons\">\n",
              "\n",
              "  <div class=\"colab-df-container\">\n",
              "    <button class=\"colab-df-convert\" onclick=\"convertToInteractive('df-459634c9-fc5e-4111-bcf7-0823b2ca8c53')\"\n",
              "            title=\"Convert this dataframe to an interactive table.\"\n",
              "            style=\"display:none;\">\n",
              "\n",
              "  <svg xmlns=\"http://www.w3.org/2000/svg\" height=\"24px\" viewBox=\"0 -960 960 960\">\n",
              "    <path d=\"M120-120v-720h720v720H120Zm60-500h600v-160H180v160Zm220 220h160v-160H400v160Zm0 220h160v-160H400v160ZM180-400h160v-160H180v160Zm440 0h160v-160H620v160ZM180-180h160v-160H180v160Zm440 0h160v-160H620v160Z\"/>\n",
              "  </svg>\n",
              "    </button>\n",
              "\n",
              "  <style>\n",
              "    .colab-df-container {\n",
              "      display:flex;\n",
              "      gap: 12px;\n",
              "    }\n",
              "\n",
              "    .colab-df-convert {\n",
              "      background-color: #E8F0FE;\n",
              "      border: none;\n",
              "      border-radius: 50%;\n",
              "      cursor: pointer;\n",
              "      display: none;\n",
              "      fill: #1967D2;\n",
              "      height: 32px;\n",
              "      padding: 0 0 0 0;\n",
              "      width: 32px;\n",
              "    }\n",
              "\n",
              "    .colab-df-convert:hover {\n",
              "      background-color: #E2EBFA;\n",
              "      box-shadow: 0px 1px 2px rgba(60, 64, 67, 0.3), 0px 1px 3px 1px rgba(60, 64, 67, 0.15);\n",
              "      fill: #174EA6;\n",
              "    }\n",
              "\n",
              "    .colab-df-buttons div {\n",
              "      margin-bottom: 4px;\n",
              "    }\n",
              "\n",
              "    [theme=dark] .colab-df-convert {\n",
              "      background-color: #3B4455;\n",
              "      fill: #D2E3FC;\n",
              "    }\n",
              "\n",
              "    [theme=dark] .colab-df-convert:hover {\n",
              "      background-color: #434B5C;\n",
              "      box-shadow: 0px 1px 3px 1px rgba(0, 0, 0, 0.15);\n",
              "      filter: drop-shadow(0px 1px 2px rgba(0, 0, 0, 0.3));\n",
              "      fill: #FFFFFF;\n",
              "    }\n",
              "  </style>\n",
              "\n",
              "    <script>\n",
              "      const buttonEl =\n",
              "        document.querySelector('#df-459634c9-fc5e-4111-bcf7-0823b2ca8c53 button.colab-df-convert');\n",
              "      buttonEl.style.display =\n",
              "        google.colab.kernel.accessAllowed ? 'block' : 'none';\n",
              "\n",
              "      async function convertToInteractive(key) {\n",
              "        const element = document.querySelector('#df-459634c9-fc5e-4111-bcf7-0823b2ca8c53');\n",
              "        const dataTable =\n",
              "          await google.colab.kernel.invokeFunction('convertToInteractive',\n",
              "                                                    [key], {});\n",
              "        if (!dataTable) return;\n",
              "\n",
              "        const docLinkHtml = 'Like what you see? Visit the ' +\n",
              "          '<a target=\"_blank\" href=https://colab.research.google.com/notebooks/data_table.ipynb>data table notebook</a>'\n",
              "          + ' to learn more about interactive tables.';\n",
              "        element.innerHTML = '';\n",
              "        dataTable['output_type'] = 'display_data';\n",
              "        await google.colab.output.renderOutput(dataTable, element);\n",
              "        const docLink = document.createElement('div');\n",
              "        docLink.innerHTML = docLinkHtml;\n",
              "        element.appendChild(docLink);\n",
              "      }\n",
              "    </script>\n",
              "  </div>\n",
              "\n",
              "\n",
              "<div id=\"df-eaae59cb-b72d-4832-a449-00b8211e6b81\">\n",
              "  <button class=\"colab-df-quickchart\" onclick=\"quickchart('df-eaae59cb-b72d-4832-a449-00b8211e6b81')\"\n",
              "            title=\"Suggest charts.\"\n",
              "            style=\"display:none;\">\n",
              "\n",
              "<svg xmlns=\"http://www.w3.org/2000/svg\" height=\"24px\"viewBox=\"0 0 24 24\"\n",
              "     width=\"24px\">\n",
              "    <g>\n",
              "        <path d=\"M19 3H5c-1.1 0-2 .9-2 2v14c0 1.1.9 2 2 2h14c1.1 0 2-.9 2-2V5c0-1.1-.9-2-2-2zM9 17H7v-7h2v7zm4 0h-2V7h2v10zm4 0h-2v-4h2v4z\"/>\n",
              "    </g>\n",
              "</svg>\n",
              "  </button>\n",
              "\n",
              "<style>\n",
              "  .colab-df-quickchart {\n",
              "      --bg-color: #E8F0FE;\n",
              "      --fill-color: #1967D2;\n",
              "      --hover-bg-color: #E2EBFA;\n",
              "      --hover-fill-color: #174EA6;\n",
              "      --disabled-fill-color: #AAA;\n",
              "      --disabled-bg-color: #DDD;\n",
              "  }\n",
              "\n",
              "  [theme=dark] .colab-df-quickchart {\n",
              "      --bg-color: #3B4455;\n",
              "      --fill-color: #D2E3FC;\n",
              "      --hover-bg-color: #434B5C;\n",
              "      --hover-fill-color: #FFFFFF;\n",
              "      --disabled-bg-color: #3B4455;\n",
              "      --disabled-fill-color: #666;\n",
              "  }\n",
              "\n",
              "  .colab-df-quickchart {\n",
              "    background-color: var(--bg-color);\n",
              "    border: none;\n",
              "    border-radius: 50%;\n",
              "    cursor: pointer;\n",
              "    display: none;\n",
              "    fill: var(--fill-color);\n",
              "    height: 32px;\n",
              "    padding: 0;\n",
              "    width: 32px;\n",
              "  }\n",
              "\n",
              "  .colab-df-quickchart:hover {\n",
              "    background-color: var(--hover-bg-color);\n",
              "    box-shadow: 0 1px 2px rgba(60, 64, 67, 0.3), 0 1px 3px 1px rgba(60, 64, 67, 0.15);\n",
              "    fill: var(--button-hover-fill-color);\n",
              "  }\n",
              "\n",
              "  .colab-df-quickchart-complete:disabled,\n",
              "  .colab-df-quickchart-complete:disabled:hover {\n",
              "    background-color: var(--disabled-bg-color);\n",
              "    fill: var(--disabled-fill-color);\n",
              "    box-shadow: none;\n",
              "  }\n",
              "\n",
              "  .colab-df-spinner {\n",
              "    border: 2px solid var(--fill-color);\n",
              "    border-color: transparent;\n",
              "    border-bottom-color: var(--fill-color);\n",
              "    animation:\n",
              "      spin 1s steps(1) infinite;\n",
              "  }\n",
              "\n",
              "  @keyframes spin {\n",
              "    0% {\n",
              "      border-color: transparent;\n",
              "      border-bottom-color: var(--fill-color);\n",
              "      border-left-color: var(--fill-color);\n",
              "    }\n",
              "    20% {\n",
              "      border-color: transparent;\n",
              "      border-left-color: var(--fill-color);\n",
              "      border-top-color: var(--fill-color);\n",
              "    }\n",
              "    30% {\n",
              "      border-color: transparent;\n",
              "      border-left-color: var(--fill-color);\n",
              "      border-top-color: var(--fill-color);\n",
              "      border-right-color: var(--fill-color);\n",
              "    }\n",
              "    40% {\n",
              "      border-color: transparent;\n",
              "      border-right-color: var(--fill-color);\n",
              "      border-top-color: var(--fill-color);\n",
              "    }\n",
              "    60% {\n",
              "      border-color: transparent;\n",
              "      border-right-color: var(--fill-color);\n",
              "    }\n",
              "    80% {\n",
              "      border-color: transparent;\n",
              "      border-right-color: var(--fill-color);\n",
              "      border-bottom-color: var(--fill-color);\n",
              "    }\n",
              "    90% {\n",
              "      border-color: transparent;\n",
              "      border-bottom-color: var(--fill-color);\n",
              "    }\n",
              "  }\n",
              "</style>\n",
              "\n",
              "  <script>\n",
              "    async function quickchart(key) {\n",
              "      const quickchartButtonEl =\n",
              "        document.querySelector('#' + key + ' button');\n",
              "      quickchartButtonEl.disabled = true;  // To prevent multiple clicks.\n",
              "      quickchartButtonEl.classList.add('colab-df-spinner');\n",
              "      try {\n",
              "        const charts = await google.colab.kernel.invokeFunction(\n",
              "            'suggestCharts', [key], {});\n",
              "      } catch (error) {\n",
              "        console.error('Error during call to suggestCharts:', error);\n",
              "      }\n",
              "      quickchartButtonEl.classList.remove('colab-df-spinner');\n",
              "      quickchartButtonEl.classList.add('colab-df-quickchart-complete');\n",
              "    }\n",
              "    (() => {\n",
              "      let quickchartButtonEl =\n",
              "        document.querySelector('#df-eaae59cb-b72d-4832-a449-00b8211e6b81 button');\n",
              "      quickchartButtonEl.style.display =\n",
              "        google.colab.kernel.accessAllowed ? 'block' : 'none';\n",
              "    })();\n",
              "  </script>\n",
              "</div>\n",
              "    </div>\n",
              "  </div>\n"
            ]
          },
          "metadata": {},
          "execution_count": 9
        }
      ]
    },
    {
      "cell_type": "markdown",
      "source": [
        "There is one to one mapping between L7 Protocol and ProtocolName.Hence we need to drop it while classifying ProtocolName."
      ],
      "metadata": {
        "id": "c9RpbnRhyBwl"
      }
    },
    {
      "cell_type": "code",
      "source": [
        "unique_L7Protocol_counts = df.groupby(\"ProtocolName\")[\"L7Protocol\"].nunique()\n",
        "unique_L7Protocol_counts"
      ],
      "metadata": {
        "colab": {
          "base_uri": "https://localhost:8080/"
        },
        "id": "fIelgoFmXW9Z",
        "outputId": "c3e80950-7197-4bc4-dd1a-3e864a71aff4"
      },
      "execution_count": 10,
      "outputs": [
        {
          "output_type": "execute_result",
          "data": {
            "text/plain": [
              "ProtocolName\n",
              "99TAXI            1\n",
              "AMAZON            1\n",
              "APPLE             1\n",
              "APPLE_ICLOUD      1\n",
              "APPLE_ITUNES      1\n",
              "                 ..\n",
              "WHOIS_DAS         1\n",
              "WIKIPEDIA         1\n",
              "WINDOWS_UPDATE    1\n",
              "YAHOO             1\n",
              "YOUTUBE           1\n",
              "Name: L7Protocol, Length: 78, dtype: int64"
            ]
          },
          "metadata": {},
          "execution_count": 10
        }
      ]
    },
    {
      "cell_type": "markdown",
      "source": [
        "Dropping Timestamp and flow  ID as they aren't used for our classification"
      ],
      "metadata": {
        "id": "6232wPO-ybVu"
      }
    },
    {
      "cell_type": "code",
      "source": [
        "df.drop(['Timestamp', 'Flow.ID'], axis = 1, inplace = True)"
      ],
      "metadata": {
        "id": "NAHmaD2lXZQg"
      },
      "execution_count": 24,
      "outputs": []
    },
    {
      "cell_type": "markdown",
      "source": [
        "Dropping columns which have only a single value."
      ],
      "metadata": {
        "id": "sjrKrP6eykEW"
      }
    },
    {
      "cell_type": "code",
      "source": [
        "single_unique_cols = [col for col in df.columns if df[col].nunique() == 1]\n",
        "df.drop(single_unique_cols, axis = 1, inplace = True)"
      ],
      "metadata": {
        "id": "_IH2SH5cXfBD"
      },
      "execution_count": 5,
      "outputs": []
    },
    {
      "cell_type": "code",
      "source": [
        "from sklearn.preprocessing import LabelEncoder\n",
        "encoder = LabelEncoder().fit(df['ProtocolName'])\n",
        "df['ProtocolName'] = encoder.fit_transform(df['ProtocolName'])"
      ],
      "metadata": {
        "id": "vvfOQnbRXkVr"
      },
      "execution_count": 6,
      "outputs": []
    },
    {
      "cell_type": "markdown",
      "source": [
        "Removing private IPs from Destination IP"
      ],
      "metadata": {
        "id": "7liwcqusy1LS"
      }
    },
    {
      "cell_type": "code",
      "source": [
        "# remove values in Destination.IP column where ip starts with 10.\n",
        "df = df[~df['Destination.IP'].str.startswith(\"10.\")]"
      ],
      "metadata": {
        "id": "1ZWoNZhlXoFv"
      },
      "execution_count": 7,
      "outputs": []
    },
    {
      "cell_type": "code",
      "source": [
        "import ipaddress\n",
        "\n",
        "# Define a function to convert IP addresses to integers\n",
        "def ip_to_integer(ip):\n",
        "    try:\n",
        "        ip_obj = ipaddress.IPv4Address(ip)\n",
        "        return int(ip_obj)\n",
        "    except ipaddress.AddressValueError:\n",
        "        # Handle invalid IP addresses as needed\n",
        "        return None"
      ],
      "metadata": {
        "id": "okgWbDdWXsyU"
      },
      "execution_count": 8,
      "outputs": []
    },
    {
      "cell_type": "markdown",
      "source": [
        "Converting IPs to integers"
      ],
      "metadata": {
        "id": "e9gEhiMdzCeA"
      }
    },
    {
      "cell_type": "code",
      "source": [
        "# Apply the function to the DataFrame column\n",
        "df['Destination.IP'] = df['Destination.IP'].apply(ip_to_integer)\n",
        "df['Source.IP'] = df['Source.IP'].apply(ip_to_integer)"
      ],
      "metadata": {
        "id": "UiHlW4YaXwEg"
      },
      "execution_count": 9,
      "outputs": []
    },
    {
      "cell_type": "code",
      "source": [
        "# count the number of times each value in ProtocolName column occurs in the dataset\n",
        "value_counts = df['ProtocolName'].value_counts()\n",
        "value_counts"
      ],
      "metadata": {
        "colab": {
          "base_uri": "https://localhost:8080/"
        },
        "id": "hoVeMwKDYC0G",
        "outputId": "12af2891-2b85-4037-8b68-e942f5ea1cdd"
      },
      "execution_count": 17,
      "outputs": [
        {
          "output_type": "execute_result",
          "data": {
            "text/plain": [
              "25    605068\n",
              "22    437261\n",
              "58    359968\n",
              "28    185384\n",
              "77     84623\n",
              "       ...  \n",
              "60         1\n",
              "52         1\n",
              "55         1\n",
              "0          1\n",
              "41         1\n",
              "Name: ProtocolName, Length: 69, dtype: int64"
            ]
          },
          "metadata": {},
          "execution_count": 17
        }
      ]
    },
    {
      "cell_type": "markdown",
      "source": [
        "Dropping useless columns"
      ],
      "metadata": {
        "id": "OGGahA4Rz9e3"
      }
    },
    {
      "cell_type": "code",
      "source": [
        "df = df.drop(columns = ['Fwd.Packet.Length.Std','Bwd.Packet.Length.Std','Fwd.IAT.Std','Bwd.IAT.Std','Fwd.Header.Length','Bwd.Header.Length','Packet.Length.Std','Packet.Length.Variance','Avg.Fwd.Segment.Size','Avg.Bwd.Segment.Size','Fwd.Header.Length.1','Subflow.Fwd.Packets','Subflow.Fwd.Bytes','Subflow.Bwd.Packets','Subflow.Bwd.Bytes','Init_Win_bytes_forward','Init_Win_bytes_backward','act_data_pkt_fwd','min_seg_size_forward','L7Protocol','Flow.IAT.Std', 'Min.Packet.Length', 'Max.Packet.Length', 'Active.Std', 'Active.Max', 'Active.Min', 'Idle.Std', 'Idle.Max', 'Idle.Min'])"
      ],
      "metadata": {
        "id": "brkT1tOpYHzG"
      },
      "execution_count": 10,
      "outputs": []
    },
    {
      "cell_type": "markdown",
      "source": [
        "Splitting the dataset in two parts\n",
        "\n",
        "1.   One which has Protocol Names which appears greater than or equalt to 100000 times\n",
        "2.   Other which has Protocol Names which appears 10000 to 100000 times\n",
        "\n"
      ],
      "metadata": {
        "id": "PR4_CQYw0AWy"
      }
    },
    {
      "cell_type": "code",
      "source": [
        "protocol_greater_equal_100000 = df[df['ProtocolName'].groupby(df['ProtocolName']).transform('size') >= 100000]\n",
        "protocol_counts = df['ProtocolName'].value_counts()\n",
        "\n",
        "protocol_less_than_100000 = df[df['ProtocolName'].isin(\n",
        "    protocol_counts[(protocol_counts >= 10000) & (protocol_counts < 100000)].index)\n",
        "]"
      ],
      "metadata": {
        "id": "tdnYM4S0YYPa"
      },
      "execution_count": 11,
      "outputs": []
    },
    {
      "cell_type": "code",
      "source": [
        "y_ge = protocol_greater_equal_100000['ProtocolName']\n",
        "y_lt = protocol_less_than_100000['ProtocolName']"
      ],
      "metadata": {
        "id": "B7iCaQZwYc3D"
      },
      "execution_count": 12,
      "outputs": []
    },
    {
      "cell_type": "code",
      "source": [
        "protocol_greater_equal_100000 = protocol_greater_equal_100000.drop(columns= ['ProtocolName'])\n",
        "protocol_less_than_100000 = protocol_less_than_100000.drop(columns= ['ProtocolName'])"
      ],
      "metadata": {
        "id": "w5KVkaLpYiKu"
      },
      "execution_count": 13,
      "outputs": []
    },
    {
      "cell_type": "markdown",
      "source": [
        "Splitting the test and train data"
      ],
      "metadata": {
        "id": "mJ2BI4uk0bYe"
      }
    },
    {
      "cell_type": "code",
      "source": [
        "from sklearn.metrics import explained_variance_score, accuracy_score\n",
        "from sklearn.model_selection import train_test_split\n",
        "x_ge_train, x_ge_test, y_ge_train, y_ge_test = train_test_split(protocol_greater_equal_100000, y_ge, test_size=0.2, random_state=3)\n",
        "x_lt_train, x_lt_test, y_lt_train, y_lt_test = train_test_split(protocol_less_than_100000, y_lt, test_size=0.2, random_state=3)"
      ],
      "metadata": {
        "id": "XKxJJhaxYkwS"
      },
      "execution_count": 14,
      "outputs": []
    },
    {
      "cell_type": "markdown",
      "source": [
        "# Decision Tree"
      ],
      "metadata": {
        "id": "Hq7c3xSF0e1x"
      }
    },
    {
      "cell_type": "code",
      "source": [
        "from sklearn.tree import DecisionTreeClassifier\n",
        "from sklearn.model_selection import GridSearchCV\n",
        "\n",
        "# Define the parameter grid\n",
        "param_grid = {\n",
        "    'max_depth': [14, 18, 22]\n",
        "}\n",
        "\n",
        "# Create a Decision Tree Classifier\n",
        "tree_classify = DecisionTreeClassifier()\n",
        "\n",
        "# Create GridSearchCV\n",
        "grid_search = GridSearchCV(tree_classify, param_grid, cv=5, scoring='accuracy')\n",
        "grid_search.fit(x_ge_train, y_ge_train)\n",
        "\n",
        "# Get the best hyperparameters\n",
        "best_max_depth = grid_search.best_params_['max_depth']\n",
        "print(\"Best Hyperparameter (max_depth):\", best_max_depth)\n",
        "\n",
        "# Get the best model\n",
        "best_model = grid_search.best_estimator_\n",
        "\n",
        "# Fit the best model on the training data\n",
        "best_model.fit(x_ge_train, y_ge_train)\n",
        "\n",
        "# Predict on training and test sets using the best model\n",
        "ge_pred_test = best_model.predict(x_ge_test)\n",
        "ge_pred_train = best_model.predict(x_ge_train)\n",
        "\n",
        "# Calculate accuracy for the best model\n",
        "train_accuracy = best_model.score(x_ge_train, y_ge_train)\n",
        "test_accuracy = best_model.score(x_ge_test, y_ge_test)\n",
        "\n",
        "print(\"Train Accuracy for best model:\", train_accuracy)\n",
        "print(\"Test Accuracy for best model:\", test_accuracy)"
      ],
      "metadata": {
        "colab": {
          "base_uri": "https://localhost:8080/"
        },
        "id": "nJ3PjFYFYnpj",
        "outputId": "46c9c80f-d0f4-4267-f94f-ab7f35386af2"
      },
      "execution_count": 27,
      "outputs": [
        {
          "output_type": "stream",
          "name": "stdout",
          "text": [
            "Best Hyperparameter (max_depth): 18\n",
            "Train Accuracy for best model: 0.9333792073969566\n",
            "Test Accuracy for best model: 0.9215430012880389\n"
          ]
        }
      ]
    },
    {
      "cell_type": "code",
      "source": [
        "from sklearn.tree import DecisionTreeClassifier\n",
        "from sklearn.model_selection import GridSearchCV\n",
        "\n",
        "# Define the parameter grid\n",
        "param_grid = {\n",
        "    'max_depth': [20, 25, 30]\n",
        "}\n",
        "\n",
        "# Create a Decision Tree Classifier\n",
        "tree_classify = DecisionTreeClassifier()\n",
        "\n",
        "# Create GridSearchCV\n",
        "grid_search = GridSearchCV(tree_classify, param_grid, cv=5, scoring='accuracy')\n",
        "grid_search.fit(x_lt_train, y_lt_train)\n",
        "\n",
        "# Get the best hyperparameters\n",
        "best_max_depth = grid_search.best_params_['max_depth']\n",
        "print(\"Best Hyperparameter (max_depth):\", best_max_depth)\n",
        "\n",
        "# Get the best model\n",
        "best_model = grid_search.best_estimator_\n",
        "\n",
        "# Fit the best model on the training data\n",
        "best_model.fit(x_lt_train, y_lt_train)\n",
        "\n",
        "# Predict on training and test sets using the best model\n",
        "ge_pred_test = best_model.predict(x_lt_test)\n",
        "ge_pred_train = best_model.predict(x_lt_train)\n",
        "\n",
        "# Calculate accuracy for the best model\n",
        "train_accuracy = best_model.score(x_lt_train, y_lt_train)\n",
        "test_accuracy = best_model.score(x_lt_test, y_lt_test)\n",
        "\n",
        "print(\"Train Accuracy for best model:\", train_accuracy)\n",
        "print(\"Test Accuracy for best model:\", test_accuracy)"
      ],
      "metadata": {
        "colab": {
          "base_uri": "https://localhost:8080/"
        },
        "id": "xjDpXEyNurIT",
        "outputId": "89a4df35-3ad2-4c14-e9b4-80da428a480e"
      },
      "execution_count": 25,
      "outputs": [
        {
          "output_type": "stream",
          "name": "stdout",
          "text": [
            "Best Hyperparameter (max_depth): 20\n",
            "Train Accuracy for best model: 0.9939242828074399\n",
            "Test Accuracy for best model: 0.9724302636606802\n"
          ]
        }
      ]
    },
    {
      "cell_type": "markdown",
      "source": [
        "# Random Forest"
      ],
      "metadata": {
        "id": "h90HVn1Z6gHe"
      }
    },
    {
      "cell_type": "code",
      "source": [
        "from sklearn.ensemble import RandomForestClassifier\n",
        "from sklearn.model_selection import GridSearchCV\n",
        "\n",
        "# Define the parameter grid for GridSearch\n",
        "param_grid = {\n",
        "    'max_depth': [20, 25],\n",
        "    'n_estimators': [10, 20]\n",
        "}\n",
        "\n",
        "# Create a Random Forest Classifier\n",
        "random_forest = RandomForestClassifier(random_state=42)\n",
        "\n",
        "# Create GridSearchCV\n",
        "grid_search = GridSearchCV(estimator=random_forest, param_grid=param_grid, cv=3, scoring='accuracy')\n",
        "grid_search.fit(x_ge_train, y_ge_train)\n",
        "\n",
        "# Get the best hyperparameters\n",
        "best_params = grid_search.best_params_\n",
        "print(\"Best Hyperparameters:\", best_params)\n",
        "\n",
        "# Get the best model\n",
        "best_model = grid_search.best_estimator_\n",
        "\n",
        "# Calculate accuracy for the best model on training and test sets\n",
        "best_train_accuracy = best_model.score(x_ge_train, y_ge_train)\n",
        "best_test_accuracy = best_model.score(x_ge_test, y_ge_test)\n",
        "\n",
        "print(\"Train Accuracy for Best Model:\", best_train_accuracy)\n",
        "print(\"Test Accuracy for Best Model:\", best_test_accuracy)\n"
      ],
      "metadata": {
        "colab": {
          "base_uri": "https://localhost:8080/"
        },
        "id": "OZ6hSbhi2K1f",
        "outputId": "68116bc0-0af6-4c65-bef5-f39b77951cb7"
      },
      "execution_count": 43,
      "outputs": [
        {
          "output_type": "stream",
          "name": "stdout",
          "text": [
            "Best Hyperparameters: {'max_depth': 25, 'n_estimators': 20}\n",
            "Train Accuracy for Best Model: 0.94958366925325\n",
            "Test Accuracy for Best Model: 0.9185134330802395\n"
          ]
        }
      ]
    },
    {
      "cell_type": "code",
      "source": [
        "from sklearn.ensemble import RandomForestClassifier\n",
        "from sklearn.model_selection import GridSearchCV\n",
        "\n",
        "# Define the parameter grid for GridSearch\n",
        "param_grid = {\n",
        "    'max_depth': [10, 15],\n",
        "    'n_estimators': [10, 20]\n",
        "}\n",
        "\n",
        "# Create a Random Forest Classifier\n",
        "random_forest = RandomForestClassifier(random_state=42)\n",
        "\n",
        "# Create GridSearchCV\n",
        "grid_search = GridSearchCV(estimator=random_forest, param_grid=param_grid, cv=3, scoring='accuracy')\n",
        "grid_search.fit(x_lt_train, y_lt_train)\n",
        "\n",
        "# Get the best hyperparameters\n",
        "best_params = grid_search.best_params_\n",
        "print(\"Best Hyperparameters:\", best_params)\n",
        "\n",
        "# Get the best model\n",
        "best_model = grid_search.best_estimator_\n",
        "\n",
        "# Calculate accuracy for the best model on training and test sets\n",
        "best_train_accuracy = best_model.score(x_lt_train, y_lt_train)\n",
        "best_test_accuracy = best_model.score(x_lt_test, y_lt_test)\n",
        "\n",
        "print(\"Train Accuracy for Best Model:\", best_train_accuracy)\n",
        "print(\"Test Accuracy for Best Model:\", best_test_accuracy)"
      ],
      "metadata": {
        "colab": {
          "base_uri": "https://localhost:8080/"
        },
        "id": "H-mYHBq9Y5lD",
        "outputId": "1cc965c6-eec4-4d35-cb46-80d454ec99dd"
      },
      "execution_count": 31,
      "outputs": [
        {
          "output_type": "stream",
          "name": "stdout",
          "text": [
            "Best Hyperparameters: {'max_depth': 15, 'n_estimators': 20}\n",
            "Train Accuracy for Best Model: 0.9386696472071763\n",
            "Test Accuracy for Best Model: 0.9124379059992358\n"
          ]
        }
      ]
    },
    {
      "cell_type": "markdown",
      "source": [
        "# XGBoost"
      ],
      "metadata": {
        "id": "DyinlqjP6kYr"
      }
    },
    {
      "cell_type": "code",
      "source": [
        "from xgboost import XGBClassifier\n",
        "from sklearn.preprocessing import LabelEncoder\n",
        "\n",
        "\n",
        "label_encoder = LabelEncoder()\n",
        "\n",
        "\n",
        "y_ge_train = label_encoder.fit_transform(y_ge_train)\n",
        "y_ge_test = label_encoder.fit_transform(y_ge_test)\n",
        "\n",
        "\n",
        "xgb_classifier = XGBClassifier()\n",
        "\n",
        "# Fit the model on the training data\n",
        "xgb_classifier.fit(x_ge_train, y_ge_train)\n",
        "\n",
        "# Predict on training and test sets\n",
        "ge_pred_train_xgb = xgb_classifier.predict(x_ge_train)\n",
        "ge_pred_test_xgb = xgb_classifier.predict(x_ge_test)\n",
        "\n",
        "# Calculate accuracy for the model\n",
        "train_accuracy_xgb = xgb_classifier.score(x_ge_train, y_ge_train)\n",
        "test_accuracy_xgb = xgb_classifier.score(x_ge_test, y_ge_test)\n",
        "\n",
        "print(\"XGBoost Train Accuracy:\", train_accuracy_xgb)\n",
        "print(\"XGBoost Test Accuracy:\", test_accuracy_xgb)\n"
      ],
      "metadata": {
        "colab": {
          "base_uri": "https://localhost:8080/"
        },
        "id": "a82X5YizDoJE",
        "outputId": "2ebeaa09-1c99-4a04-9a07-3f66543fd9a3"
      },
      "execution_count": 19,
      "outputs": [
        {
          "output_type": "stream",
          "name": "stdout",
          "text": [
            "XGBoost Train Accuracy: 0.9224418648594175\n",
            "XGBoost Test Accuracy: 0.9198802029369806\n"
          ]
        }
      ]
    },
    {
      "cell_type": "code",
      "source": [
        "from xgboost import XGBClassifier\n",
        "from sklearn.preprocessing import LabelEncoder\n",
        "\n",
        "label_encoder = LabelEncoder()\n",
        "\n",
        "\n",
        "y_lt_train = label_encoder.fit_transform(y_lt_train)\n",
        "y_lt_test = label_encoder.fit_transform(y_lt_test)\n",
        "\n",
        "# Create an XGBoost Classifier model with default hyperparameters\n",
        "xgb_classifier = XGBClassifier()\n",
        "\n",
        "# Fit the model on the training data\n",
        "xgb_classifier.fit(x_lt_train, y_lt_train)\n",
        "\n",
        "# Predict on training and test sets\n",
        "lt_pred_train_xgb = xgb_classifier.predict(x_lt_train)\n",
        "lt_pred_test_xgb = xgb_classifier.predict(x_lt_test)\n",
        "\n",
        "# Calculate accuracy for the model\n",
        "train_accuracy_xgb = xgb_classifier.score(x_lt_train, y_lt_train)\n",
        "test_accuracy_xgb = xgb_classifier.score(x_lt_test, y_lt_test)\n",
        "\n",
        "print(\"XGBoost Train Accuracy:\", train_accuracy_xgb)\n",
        "print(\"XGBoost Test Accuracy:\", test_accuracy_xgb)"
      ],
      "metadata": {
        "colab": {
          "base_uri": "https://localhost:8080/"
        },
        "id": "0vQGFvBiVEoH",
        "outputId": "d9b79aa5-ec9c-4a4a-9234-dc6ea52234b6"
      },
      "execution_count": 20,
      "outputs": [
        {
          "output_type": "stream",
          "name": "stdout",
          "text": [
            "XGBoost Train Accuracy: 0.9831054939386124\n",
            "XGBoost Test Accuracy: 0.9723156285823462\n"
          ]
        }
      ]
    }
  ]
}