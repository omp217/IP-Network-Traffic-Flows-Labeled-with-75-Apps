{
 "cells": [
  {
   "cell_type": "code",
   "execution_count": 1,
   "id": "639fe8ca",
   "metadata": {
    "_cell_guid": "b1076dfc-b9ad-4769-8c92-a6c4dae69d19",
    "_uuid": "8f2839f25d086af736a60e9eeb907d3b93b6e0e5",
    "execution": {
     "iopub.execute_input": "2023-10-28T19:23:39.009696Z",
     "iopub.status.busy": "2023-10-28T19:23:39.008960Z",
     "iopub.status.idle": "2023-10-28T19:23:56.888777Z",
     "shell.execute_reply": "2023-10-28T19:23:56.887924Z"
    },
    "papermill": {
     "duration": 17.889184,
     "end_time": "2023-10-28T19:23:56.891048",
     "exception": false,
     "start_time": "2023-10-28T19:23:39.001864",
     "status": "completed"
    },
    "tags": []
   },
   "outputs": [
    {
     "name": "stderr",
     "output_type": "stream",
     "text": [
      "/opt/conda/lib/python3.10/site-packages/scipy/__init__.py:146: UserWarning: A NumPy version >=1.16.5 and <1.23.0 is required for this version of SciPy (detected version 1.23.5\n",
      "  warnings.warn(f\"A NumPy version >={np_minversion} and <{np_maxversion}\"\n"
     ]
    }
   ],
   "source": [
    "import numpy as np\n",
    "import pandas as pd\n",
    "from sklearn.cluster import KMeans\n",
    "import matplotlib.pyplot as plt\n",
    "from sklearn.metrics import explained_variance_score, accuracy_score\n",
    "from sklearn.model_selection import train_test_split\n",
    "from sklearn.metrics import classification_report\n",
    "import tensorflow as tf\n",
    "from tensorflow import keras\n",
    "from tensorflow.keras.models import Sequential\n",
    "from tensorflow.keras.layers import Input, Dense, BatchNormalization\n",
    "from sklearn.preprocessing import StandardScaler\n",
    "from tensorflow.keras.utils import to_categorical\n",
    "from sklearn.preprocessing import LabelEncoder\n",
    "from sklearn.utils.class_weight import compute_class_weight"
   ]
  },
  {
   "cell_type": "code",
   "execution_count": 2,
   "id": "a6622d57",
   "metadata": {
    "execution": {
     "iopub.execute_input": "2023-10-28T19:23:56.902796Z",
     "iopub.status.busy": "2023-10-28T19:23:56.902223Z",
     "iopub.status.idle": "2023-10-28T19:24:52.698137Z",
     "shell.execute_reply": "2023-10-28T19:24:52.697026Z"
    },
    "papermill": {
     "duration": 55.804456,
     "end_time": "2023-10-28T19:24:52.700701",
     "exception": false,
     "start_time": "2023-10-28T19:23:56.896245",
     "status": "completed"
    },
    "tags": []
   },
   "outputs": [],
   "source": [
    "# reading a csv file\n",
    "\n",
    "df_main = pd.read_csv('/kaggle/input/ip-network-traffic-flows-labeled-with-87-apps/Dataset-Unicauca-Version2-87Atts.csv')"
   ]
  },
  {
   "cell_type": "code",
   "execution_count": 3,
   "id": "fc8577f6",
   "metadata": {
    "execution": {
     "iopub.execute_input": "2023-10-28T19:24:52.712595Z",
     "iopub.status.busy": "2023-10-28T19:24:52.712249Z",
     "iopub.status.idle": "2023-10-28T19:25:03.494612Z",
     "shell.execute_reply": "2023-10-28T19:25:03.493815Z"
    },
    "papermill": {
     "duration": 10.790732,
     "end_time": "2023-10-28T19:25:03.496945",
     "exception": false,
     "start_time": "2023-10-28T19:24:52.706213",
     "status": "completed"
    },
    "tags": []
   },
   "outputs": [],
   "source": [
    "single_unique_cols = [col for col in df_main.columns if df_main[col].nunique() == 1]\n",
    "df_main.drop(single_unique_cols, axis = 1, inplace = True)\n",
    "\n",
    "df_main.drop(['Timestamp', 'Flow.ID'], axis = 1, inplace = True)"
   ]
  },
  {
   "cell_type": "code",
   "execution_count": 4,
   "id": "c122ad9e",
   "metadata": {
    "execution": {
     "iopub.execute_input": "2023-10-28T19:25:03.508565Z",
     "iopub.status.busy": "2023-10-28T19:25:03.508227Z",
     "iopub.status.idle": "2023-10-28T19:25:03.515672Z",
     "shell.execute_reply": "2023-10-28T19:25:03.514874Z"
    },
    "papermill": {
     "duration": 0.015616,
     "end_time": "2023-10-28T19:25:03.517740",
     "exception": false,
     "start_time": "2023-10-28T19:25:03.502124",
     "status": "completed"
    },
    "tags": []
   },
   "outputs": [
    {
     "data": {
      "text/plain": [
       "Index(['Source.IP', 'Source.Port', 'Destination.IP', 'Destination.Port',\n",
       "       'Protocol', 'Flow.Duration', 'Total.Fwd.Packets',\n",
       "       'Total.Backward.Packets', 'Total.Length.of.Fwd.Packets',\n",
       "       'Total.Length.of.Bwd.Packets', 'Fwd.Packet.Length.Max',\n",
       "       'Fwd.Packet.Length.Min', 'Fwd.Packet.Length.Mean',\n",
       "       'Fwd.Packet.Length.Std', 'Bwd.Packet.Length.Max',\n",
       "       'Bwd.Packet.Length.Min', 'Bwd.Packet.Length.Mean',\n",
       "       'Bwd.Packet.Length.Std', 'Flow.Bytes.s', 'Flow.Packets.s',\n",
       "       'Flow.IAT.Mean', 'Flow.IAT.Std', 'Flow.IAT.Max', 'Flow.IAT.Min',\n",
       "       'Fwd.IAT.Total', 'Fwd.IAT.Mean', 'Fwd.IAT.Std', 'Fwd.IAT.Max',\n",
       "       'Fwd.IAT.Min', 'Bwd.IAT.Total', 'Bwd.IAT.Mean', 'Bwd.IAT.Std',\n",
       "       'Bwd.IAT.Max', 'Bwd.IAT.Min', 'Fwd.PSH.Flags', 'Fwd.Header.Length',\n",
       "       'Bwd.Header.Length', 'Fwd.Packets.s', 'Bwd.Packets.s',\n",
       "       'Min.Packet.Length', 'Max.Packet.Length', 'Packet.Length.Mean',\n",
       "       'Packet.Length.Std', 'Packet.Length.Variance', 'FIN.Flag.Count',\n",
       "       'SYN.Flag.Count', 'RST.Flag.Count', 'PSH.Flag.Count', 'ACK.Flag.Count',\n",
       "       'URG.Flag.Count', 'ECE.Flag.Count', 'Down.Up.Ratio',\n",
       "       'Average.Packet.Size', 'Avg.Fwd.Segment.Size', 'Avg.Bwd.Segment.Size',\n",
       "       'Fwd.Header.Length.1', 'Subflow.Fwd.Packets', 'Subflow.Fwd.Bytes',\n",
       "       'Subflow.Bwd.Packets', 'Subflow.Bwd.Bytes', 'Init_Win_bytes_forward',\n",
       "       'Init_Win_bytes_backward', 'act_data_pkt_fwd', 'min_seg_size_forward',\n",
       "       'Active.Mean', 'Active.Std', 'Active.Max', 'Active.Min', 'Idle.Mean',\n",
       "       'Idle.Std', 'Idle.Max', 'Idle.Min', 'L7Protocol', 'ProtocolName'],\n",
       "      dtype='object')"
      ]
     },
     "execution_count": 4,
     "metadata": {},
     "output_type": "execute_result"
    }
   ],
   "source": [
    "df_main.columns"
   ]
  },
  {
   "cell_type": "code",
   "execution_count": 5,
   "id": "5eb40479",
   "metadata": {
    "execution": {
     "iopub.execute_input": "2023-10-28T19:25:03.528864Z",
     "iopub.status.busy": "2023-10-28T19:25:03.528600Z",
     "iopub.status.idle": "2023-10-28T19:25:03.532656Z",
     "shell.execute_reply": "2023-10-28T19:25:03.531897Z"
    },
    "papermill": {
     "duration": 0.011996,
     "end_time": "2023-10-28T19:25:03.534740",
     "exception": false,
     "start_time": "2023-10-28T19:25:03.522744",
     "status": "completed"
    },
    "tags": []
   },
   "outputs": [],
   "source": [
    "# sse = []\n",
    "# k_rng = range(1,10)\n",
    "\n",
    "# for k in k_rng:\n",
    "#     km = KMeans(n_clusters=k)\n",
    "#     km.fit(df_main[['Flow.Duration', 'Total.Fwd.Packets', 'Total.Backward.Packets',\n",
    "#        'Total.Length.of.Fwd.Packets', 'Total.Length.of.Bwd.Packets',\n",
    "#        'Fwd.Packet.Length.Mean', 'Bwd.Packet.Length.Mean', 'Flow.Bytes.s',\n",
    "#        'Flow.Packets.s', 'Down.Up.Ratio', 'Active.Mean']])\n",
    "#     sse.append(km.inertia_)\n",
    "    \n",
    "# plt.xlabel('K')\n",
    "# plt.ylabel('Sum of squared error')\n",
    "# plt.plot(k_rng,sse)"
   ]
  },
  {
   "cell_type": "code",
   "execution_count": 6,
   "id": "6038929c",
   "metadata": {
    "execution": {
     "iopub.execute_input": "2023-10-28T19:25:03.546074Z",
     "iopub.status.busy": "2023-10-28T19:25:03.545825Z",
     "iopub.status.idle": "2023-10-28T19:25:16.853285Z",
     "shell.execute_reply": "2023-10-28T19:25:16.852265Z"
    },
    "papermill": {
     "duration": 13.315643,
     "end_time": "2023-10-28T19:25:16.855457",
     "exception": false,
     "start_time": "2023-10-28T19:25:03.539814",
     "status": "completed"
    },
    "tags": []
   },
   "outputs": [
    {
     "name": "stderr",
     "output_type": "stream",
     "text": [
      "/opt/conda/lib/python3.10/site-packages/sklearn/cluster/_kmeans.py:870: FutureWarning: The default value of `n_init` will change from 10 to 'auto' in 1.4. Set the value of `n_init` explicitly to suppress the warning\n",
      "  warnings.warn(\n"
     ]
    },
    {
     "data": {
      "text/plain": [
       "0    1\n",
       "1    1\n",
       "2    2\n",
       "3    1\n",
       "4    1\n",
       "Name: Label, dtype: int32"
      ]
     },
     "execution_count": 6,
     "metadata": {},
     "output_type": "execute_result"
    }
   ],
   "source": [
    "km = KMeans(n_clusters=4)\n",
    "\n",
    "df_main['Label'] = km.fit_predict(df_main[['Flow.Duration', 'Total.Fwd.Packets', 'Total.Backward.Packets',\n",
    "       'Total.Length.of.Fwd.Packets', 'Total.Length.of.Bwd.Packets',\n",
    "       'Fwd.Packet.Length.Mean', 'Bwd.Packet.Length.Mean', 'Flow.Bytes.s',\n",
    "       'Flow.Packets.s', 'Down.Up.Ratio', 'Active.Mean']])\n",
    "\n",
    "df_main['Label'].head()"
   ]
  },
  {
   "cell_type": "code",
   "execution_count": 7,
   "id": "e86caf21",
   "metadata": {
    "execution": {
     "iopub.execute_input": "2023-10-28T19:25:16.867980Z",
     "iopub.status.busy": "2023-10-28T19:25:16.867674Z",
     "iopub.status.idle": "2023-10-28T19:25:16.897934Z",
     "shell.execute_reply": "2023-10-28T19:25:16.896983Z"
    },
    "papermill": {
     "duration": 0.038692,
     "end_time": "2023-10-28T19:25:16.899885",
     "exception": false,
     "start_time": "2023-10-28T19:25:16.861193",
     "status": "completed"
    },
    "tags": []
   },
   "outputs": [
    {
     "data": {
      "text/plain": [
       "Label\n",
       "1    2710248\n",
       "0     859546\n",
       "2       6666\n",
       "3        836\n",
       "Name: count, dtype: int64"
      ]
     },
     "execution_count": 7,
     "metadata": {},
     "output_type": "execute_result"
    }
   ],
   "source": [
    "df_main['Label'].value_counts()"
   ]
  },
  {
   "cell_type": "code",
   "execution_count": 8,
   "id": "4d3c99e0",
   "metadata": {
    "execution": {
     "iopub.execute_input": "2023-10-28T19:25:16.911729Z",
     "iopub.status.busy": "2023-10-28T19:25:16.911410Z",
     "iopub.status.idle": "2023-10-28T19:25:16.915227Z",
     "shell.execute_reply": "2023-10-28T19:25:16.914446Z"
    },
    "papermill": {
     "duration": 0.01174,
     "end_time": "2023-10-28T19:25:16.917077",
     "exception": false,
     "start_time": "2023-10-28T19:25:16.905337",
     "status": "completed"
    },
    "tags": []
   },
   "outputs": [],
   "source": [
    "# df_main0 = df_main[df_main.Label == 0]\n",
    "# df_main1 = df_main[df_main.Label == 1]\n",
    "# df_main2 = df_main[df_main.Label == 2]\n",
    "# df_main3 = df_main[df_main.Label == 3]"
   ]
  },
  {
   "cell_type": "code",
   "execution_count": 9,
   "id": "be9c9418",
   "metadata": {
    "execution": {
     "iopub.execute_input": "2023-10-28T19:25:16.928922Z",
     "iopub.status.busy": "2023-10-28T19:25:16.928347Z",
     "iopub.status.idle": "2023-10-28T19:25:16.933016Z",
     "shell.execute_reply": "2023-10-28T19:25:16.932183Z"
    },
    "papermill": {
     "duration": 0.012672,
     "end_time": "2023-10-28T19:25:16.934950",
     "exception": false,
     "start_time": "2023-10-28T19:25:16.922278",
     "status": "completed"
    },
    "tags": []
   },
   "outputs": [],
   "source": [
    "# plot_columns = ['Total.Fwd.Packets', 'Total.Backward.Packets', 'Total.Length.of.Fwd.Packets', 'Total.Length.of.Bwd.Packets', 'Fwd.Packet.Length.Mean', 'Bwd.Packet.Length.Mean', 'Flow.Bytes.s', 'Flow.Packets.s', 'Down.Up.Ratio', 'Active.Mean']\n",
    "\n",
    "# # Define the number of rows and columns for subplots\n",
    "# num_rows = 5\n",
    "# num_cols = 2\n",
    "\n",
    "# # Create a single big plot with subplots\n",
    "# fig, axes = plt.subplots(num_rows, num_cols, figsize=(12, 16))\n",
    "\n",
    "# # Iterate through the columns and create subplots\n",
    "# for i, column in enumerate(plot_columns):\n",
    "#     row = i // num_cols\n",
    "#     col = i % num_cols\n",
    "#     ax = axes[row, col]\n",
    "\n",
    "#     ax.scatter(df_main0[column], df_main0['Flow.Duration'], color='green', label='Cluster 0', alpha=0.3)\n",
    "#     ax.scatter(df_main1[column], df_main1['Flow.Duration'], color='red', label='Cluster 1', alpha=0.3)\n",
    "#     ax.scatter(df_main2[column], df_main2['Flow.Duration'], color='black', label='Cluster 2', alpha=0.3)\n",
    "#     ax.scatter(df_main3[column], df_main3['Flow.Duration'], color='blue', label='Cluster 3', alpha=0.3)\n",
    "    \n",
    "#     ax.set_xlabel(column)\n",
    "#     ax.set_ylabel('Flow.Duration')\n",
    "#     ax.legend()\n",
    "\n",
    "# # Adjust the layout and spacing\n",
    "# plt.tight_layout()\n",
    "# plt.show()\n"
   ]
  },
  {
   "cell_type": "code",
   "execution_count": 10,
   "id": "465cadfe",
   "metadata": {
    "execution": {
     "iopub.execute_input": "2023-10-28T19:25:16.947608Z",
     "iopub.status.busy": "2023-10-28T19:25:16.947313Z",
     "iopub.status.idle": "2023-10-28T19:25:17.065650Z",
     "shell.execute_reply": "2023-10-28T19:25:17.064547Z"
    },
    "papermill": {
     "duration": 0.126927,
     "end_time": "2023-10-28T19:25:17.067792",
     "exception": false,
     "start_time": "2023-10-28T19:25:16.940865",
     "status": "completed"
    },
    "tags": []
   },
   "outputs": [
    {
     "data": {
      "text/plain": [
       "Index(['Total.Fwd.Packets', 'Total.Backward.Packets',\n",
       "       'Total.Length.of.Fwd.Packets', 'Total.Length.of.Bwd.Packets',\n",
       "       'Fwd.Packet.Length.Mean', 'Bwd.Packet.Length.Mean', 'Flow.Bytes.s',\n",
       "       'Flow.Packets.s', 'Down.Up.Ratio', 'Active.Mean', 'Label'],\n",
       "      dtype='object')"
      ]
     },
     "execution_count": 10,
     "metadata": {},
     "output_type": "execute_result"
    }
   ],
   "source": [
    "df_main = df_main[['Total.Fwd.Packets', 'Total.Backward.Packets', 'Total.Length.of.Fwd.Packets', 'Total.Length.of.Bwd.Packets', 'Fwd.Packet.Length.Mean', 'Bwd.Packet.Length.Mean', 'Flow.Bytes.s', 'Flow.Packets.s', 'Down.Up.Ratio', 'Active.Mean', 'Label']]\n",
    "df_main.columns"
   ]
  },
  {
   "cell_type": "code",
   "execution_count": 11,
   "id": "f590e720",
   "metadata": {
    "execution": {
     "iopub.execute_input": "2023-10-28T19:25:17.080009Z",
     "iopub.status.busy": "2023-10-28T19:25:17.079738Z",
     "iopub.status.idle": "2023-10-28T19:25:17.776385Z",
     "shell.execute_reply": "2023-10-28T19:25:17.775255Z"
    },
    "papermill": {
     "duration": 0.705327,
     "end_time": "2023-10-28T19:25:17.778693",
     "exception": false,
     "start_time": "2023-10-28T19:25:17.073366",
     "status": "completed"
    },
    "tags": []
   },
   "outputs": [
    {
     "name": "stdout",
     "output_type": "stream",
     "text": [
      "4\n"
     ]
    }
   ],
   "source": [
    "x = df_main.drop(columns = ['Label'])\n",
    "y = df_main['Label']\n",
    "\n",
    "scaler = StandardScaler()\n",
    "x = scaler.fit_transform(x)\n",
    "\n",
    "ncategories = len(y.unique())\n",
    "print(ncategories)"
   ]
  },
  {
   "cell_type": "code",
   "execution_count": 12,
   "id": "3b47f46a",
   "metadata": {
    "execution": {
     "iopub.execute_input": "2023-10-28T19:25:17.793379Z",
     "iopub.status.busy": "2023-10-28T19:25:17.793003Z",
     "iopub.status.idle": "2023-10-28T19:25:17.802255Z",
     "shell.execute_reply": "2023-10-28T19:25:17.801040Z"
    },
    "papermill": {
     "duration": 0.019738,
     "end_time": "2023-10-28T19:25:17.804575",
     "exception": false,
     "start_time": "2023-10-28T19:25:17.784837",
     "status": "completed"
    },
    "tags": []
   },
   "outputs": [
    {
     "data": {
      "text/plain": [
       "(3577296,)"
      ]
     },
     "execution_count": 12,
     "metadata": {},
     "output_type": "execute_result"
    }
   ],
   "source": [
    "y.shape"
   ]
  },
  {
   "cell_type": "code",
   "execution_count": 13,
   "id": "35fa4e49",
   "metadata": {
    "execution": {
     "iopub.execute_input": "2023-10-28T19:25:17.821385Z",
     "iopub.status.busy": "2023-10-28T19:25:17.820999Z",
     "iopub.status.idle": "2023-10-28T20:58:38.491393Z",
     "shell.execute_reply": "2023-10-28T20:58:38.490398Z"
    },
    "papermill": {
     "duration": 5608.24321,
     "end_time": "2023-10-28T20:58:46.054451",
     "exception": false,
     "start_time": "2023-10-28T19:25:17.811241",
     "status": "completed"
    },
    "tags": []
   },
   "outputs": [
    {
     "name": "stdout",
     "output_type": "stream",
     "text": [
      "[1.03993746e+00 3.30029533e-01 1.34167756e+02 1.08874217e+03]\n",
      "Epoch 1/1000\n",
      "19564/19564 [==============================] - 262s 13ms/step - loss: 0.3165 - accuracy: 0.8660 - recall: 0.8598 - val_loss: 0.4329 - val_accuracy: 0.8508 - val_recall: 0.8507\n",
      "Epoch 2/1000\n",
      "19564/19564 [==============================] - 246s 13ms/step - loss: 0.2138 - accuracy: 0.9016 - recall: 0.9014 - val_loss: 0.4764 - val_accuracy: 0.7908 - val_recall: 0.7906\n",
      "Epoch 3/1000\n",
      "19564/19564 [==============================] - 245s 13ms/step - loss: 0.1933 - accuracy: 0.9044 - recall: 0.9043 - val_loss: 0.3317 - val_accuracy: 0.9029 - val_recall: 0.9028\n",
      "Epoch 4/1000\n",
      "19564/19564 [==============================] - 242s 12ms/step - loss: 0.1871 - accuracy: 0.9070 - recall: 0.9069 - val_loss: 0.3007 - val_accuracy: 0.8962 - val_recall: 0.8962\n",
      "Epoch 5/1000\n",
      "19564/19564 [==============================] - 242s 12ms/step - loss: 0.1869 - accuracy: 0.9090 - recall: 0.9089 - val_loss: 0.3796 - val_accuracy: 0.8442 - val_recall: 0.8441\n",
      "Epoch 6/1000\n",
      "19564/19564 [==============================] - 242s 12ms/step - loss: 0.1707 - accuracy: 0.9099 - recall: 0.9099 - val_loss: 0.2750 - val_accuracy: 0.9047 - val_recall: 0.9046\n",
      "Epoch 7/1000\n",
      "19564/19564 [==============================] - 242s 12ms/step - loss: 0.1759 - accuracy: 0.9097 - recall: 0.9096 - val_loss: 0.8957 - val_accuracy: 0.6523 - val_recall: 0.6520\n",
      "Epoch 8/1000\n",
      "19564/19564 [==============================] - 242s 12ms/step - loss: 0.1731 - accuracy: 0.9109 - recall: 0.9108 - val_loss: 0.2613 - val_accuracy: 0.9136 - val_recall: 0.9135\n",
      "Epoch 9/1000\n",
      "19564/19564 [==============================] - 241s 12ms/step - loss: 0.1662 - accuracy: 0.9107 - recall: 0.9105 - val_loss: 0.3647 - val_accuracy: 0.8734 - val_recall: 0.8732\n",
      "Epoch 10/1000\n",
      "19564/19564 [==============================] - 242s 12ms/step - loss: 0.1746 - accuracy: 0.9095 - recall: 0.9094 - val_loss: 0.3281 - val_accuracy: 0.8871 - val_recall: 0.8871\n",
      "Epoch 11/1000\n",
      "19564/19564 [==============================] - 243s 12ms/step - loss: 0.1644 - accuracy: 0.9117 - recall: 0.9117 - val_loss: 0.3881 - val_accuracy: 0.8700 - val_recall: 0.8699\n",
      "Epoch 12/1000\n",
      "19564/19564 [==============================] - 243s 12ms/step - loss: 0.1664 - accuracy: 0.9115 - recall: 0.9114 - val_loss: 0.3042 - val_accuracy: 0.9105 - val_recall: 0.9104\n",
      "Epoch 13/1000\n",
      "19564/19564 [==============================] - 243s 12ms/step - loss: 0.1617 - accuracy: 0.9123 - recall: 0.9122 - val_loss: 0.2596 - val_accuracy: 0.9206 - val_recall: 0.9206\n",
      "Epoch 14/1000\n",
      "19564/19564 [==============================] - 243s 12ms/step - loss: 0.1551 - accuracy: 0.9132 - recall: 0.9132 - val_loss: 0.3404 - val_accuracy: 0.8752 - val_recall: 0.8751\n",
      "Epoch 15/1000\n",
      "19564/19564 [==============================] - 244s 12ms/step - loss: 0.1593 - accuracy: 0.9137 - recall: 0.9137 - val_loss: 0.3181 - val_accuracy: 0.8885 - val_recall: 0.8884\n",
      "Epoch 16/1000\n",
      "19564/19564 [==============================] - 243s 12ms/step - loss: 0.1547 - accuracy: 0.9138 - recall: 0.9138 - val_loss: 0.3794 - val_accuracy: 0.8632 - val_recall: 0.8632\n",
      "Epoch 17/1000\n",
      "19564/19564 [==============================] - 244s 12ms/step - loss: 0.1579 - accuracy: 0.9139 - recall: 0.9139 - val_loss: 0.3648 - val_accuracy: 0.8710 - val_recall: 0.8710\n",
      "Epoch 18/1000\n",
      "19564/19564 [==============================] - 239s 12ms/step - loss: 0.1591 - accuracy: 0.9135 - recall: 0.9134 - val_loss: 0.2934 - val_accuracy: 0.9185 - val_recall: 0.9185\n",
      "Epoch 19/1000\n",
      "19564/19564 [==============================] - 240s 12ms/step - loss: 0.1543 - accuracy: 0.9134 - recall: 0.9133 - val_loss: 0.9692 - val_accuracy: 0.7580 - val_recall: 0.7580\n",
      "Epoch 20/1000\n",
      "19564/19564 [==============================] - 240s 12ms/step - loss: 0.1566 - accuracy: 0.9129 - recall: 0.9128 - val_loss: 0.4079 - val_accuracy: 0.8103 - val_recall: 0.8102\n",
      "Epoch 21/1000\n",
      "19564/19564 [==============================] - 242s 12ms/step - loss: 0.1471 - accuracy: 0.9140 - recall: 0.9140 - val_loss: 0.3838 - val_accuracy: 0.8694 - val_recall: 0.8694\n",
      "Epoch 22/1000\n",
      "19564/19564 [==============================] - 240s 12ms/step - loss: 0.1495 - accuracy: 0.9135 - recall: 0.9134 - val_loss: 0.2798 - val_accuracy: 0.9156 - val_recall: 0.9155\n",
      "Epoch 23/1000\n",
      "19564/19564 [==============================] - 240s 12ms/step - loss: 0.1478 - accuracy: 0.9136 - recall: 0.9136 - val_loss: 0.2736 - val_accuracy: 0.9192 - val_recall: 0.9192\n"
     ]
    }
   ],
   "source": [
    "# Split the data into training, validation, and test sets\n",
    "x_train, x_temp, y_train, y_temp = train_test_split(x, y, test_size=0.3, random_state=42)\n",
    "x_val, x_test, y_val, y_test = train_test_split(x_temp, y_temp, test_size=0.5, random_state=42)\n",
    "\n",
    "class_labels = np.unique(y_train)\n",
    "class_weights = compute_class_weight('balanced', classes=class_labels, y=y_train)\n",
    "print(class_weights)\n",
    "\n",
    "del x_temp\n",
    "del y_temp\n",
    "\n",
    "# Define early stopping with custom monitor\n",
    "early_stopping = tf.keras.callbacks.EarlyStopping(\n",
    "    monitor='val_loss',\n",
    "    patience=10,\n",
    "    restore_best_weights=True,\n",
    "    min_delta=0.001,  # Adjust as needed\n",
    "    mode='min',  # Ensure the custom monitor minimizes recall loss\n",
    ")\n",
    "\n",
    "# Define a MirroredStrategy to use both GPUs\n",
    "strategy = tf.distribute.MirroredStrategy(devices=[\"/gpu:0\", \"/gpu:1\"])\n",
    "\n",
    "with strategy.scope():\n",
    "    # Build the neural network model\n",
    "    model = tf.keras.Sequential([\n",
    "        tf.keras.layers.Input(shape=(x.shape[1],)),  # Input layer with the appropriate input shape\n",
    "        tf.keras.layers.Dense(64, activation='relu'),   # Fully connected layer with 64 units and ReLU activation\n",
    "        tf.keras.layers.BatchNormalization(),  # Batch normalization layer\n",
    "        tf.keras.layers.Dense(128, activation='relu'),  # Fully connected layer with 128 units and ReLU activation\n",
    "        tf.keras.layers.BatchNormalization(),  # Batch normalization layer\n",
    "        tf.keras.layers.Dense(256, activation='relu'),  # Fully connected layer with 256 units and ReLU activation\n",
    "        tf.keras.layers.BatchNormalization(),  # Batch normalization layer\n",
    "        tf.keras.layers.Dense(64, activation='relu'),   # Fully connected layer with 64 units and ReLU activation\n",
    "        tf.keras.layers.BatchNormalization(),  # Batch normalization layer\n",
    "        tf.keras.layers.Dense(4, activation='softmax')  # Output layer with 4 units and softmax activation for multi-class classification\n",
    "    ])\n",
    "\n",
    "     # Compile the model with categorical cross-entropy loss\n",
    "    model.compile(optimizer='adam',\n",
    "              loss='categorical_crossentropy',  # Use categorical cross-entropy for multi-class classification\n",
    "              metrics=['accuracy', tf.keras.metrics.Recall(name='recall')])\n",
    "\n",
    "# Train the model with early stopping\n",
    "history = model.fit(\n",
    "    x_train, tf.keras.utils.to_categorical(y_train, num_classes=4),\n",
    "    epochs=1000,\n",
    "    batch_size=128,\n",
    "    validation_data=(x_val, tf.keras.utils.to_categorical(y_val, num_classes=4)),\n",
    "    callbacks=[early_stopping],\n",
    "    class_weight=dict(enumerate(class_weights))  # Assign class weights for each class\n",
    ")"
   ]
  },
  {
   "cell_type": "code",
   "execution_count": 14,
   "id": "3ee7a021",
   "metadata": {
    "execution": {
     "iopub.execute_input": "2023-10-28T20:59:00.909538Z",
     "iopub.status.busy": "2023-10-28T20:59:00.908649Z",
     "iopub.status.idle": "2023-10-28T21:04:32.988941Z",
     "shell.execute_reply": "2023-10-28T21:04:32.987917Z"
    },
    "papermill": {
     "duration": 339.470819,
     "end_time": "2023-10-28T21:04:32.991078",
     "exception": false,
     "start_time": "2023-10-28T20:58:53.520259",
     "status": "completed"
    },
    "tags": []
   },
   "outputs": [
    {
     "name": "stdout",
     "output_type": "stream",
     "text": [
      "78254/78254 [==============================] - 280s 4ms/step\n",
      "Training Accuracy: 0.9201\n"
     ]
    }
   ],
   "source": [
    "train_logits = model.predict(x_train)\n",
    "train_probabilities = tf.nn.softmax(train_logits, axis=-1)\n",
    "\n",
    "# Calculate training accuracy\n",
    "train_accuracy = sum(tf.argmax(train_logits, axis=1).numpy() == y_train) / len(y_train)\n",
    "\n",
    "# Print training accuracy\n",
    "print(f'Training Accuracy: {train_accuracy:.4f}')\n",
    "\n",
    "del train_logits\n",
    "del train_probabilities\n",
    "del train_accuracy"
   ]
  },
  {
   "cell_type": "code",
   "execution_count": 15,
   "id": "e6d1d152",
   "metadata": {
    "execution": {
     "iopub.execute_input": "2023-10-28T21:04:48.863215Z",
     "iopub.status.busy": "2023-10-28T21:04:48.862135Z",
     "iopub.status.idle": "2023-10-28T21:06:00.211111Z",
     "shell.execute_reply": "2023-10-28T21:06:00.210120Z"
    },
    "papermill": {
     "duration": 87.309728,
     "end_time": "2023-10-28T21:06:08.319022",
     "exception": false,
     "start_time": "2023-10-28T21:04:41.009294",
     "status": "completed"
    },
    "tags": []
   },
   "outputs": [
    {
     "name": "stdout",
     "output_type": "stream",
     "text": [
      "16769/16769 [==============================] - 60s 4ms/step\n",
      "Validation Accuracy: 0.9203\n"
     ]
    }
   ],
   "source": [
    "validation_logits = model.predict(x_val)\n",
    "validation_probabilities = tf.nn.softmax(validation_logits, axis=-1)\n",
    "\n",
    "# Calculate validation accuracy\n",
    "validation_accuracy = sum(tf.argmax(validation_logits, axis=1).numpy() == y_val) / len(y_val)\n",
    "\n",
    "# Print validation accuracy\n",
    "print(f'Validation Accuracy: {validation_accuracy:.4f}')\n",
    "\n",
    "del validation_logits\n",
    "del validation_probabilities\n",
    "del validation_accuracy"
   ]
  },
  {
   "cell_type": "code",
   "execution_count": 16,
   "id": "3c38de9b",
   "metadata": {
    "execution": {
     "iopub.execute_input": "2023-10-28T21:06:24.466320Z",
     "iopub.status.busy": "2023-10-28T21:06:24.465962Z",
     "iopub.status.idle": "2023-10-28T21:07:30.677700Z",
     "shell.execute_reply": "2023-10-28T21:07:30.676706Z"
    },
    "papermill": {
     "duration": 81.835494,
     "end_time": "2023-10-28T21:07:38.086362",
     "exception": false,
     "start_time": "2023-10-28T21:06:16.250868",
     "status": "completed"
    },
    "tags": []
   },
   "outputs": [
    {
     "name": "stdout",
     "output_type": "stream",
     "text": [
      "16769/16769 [==============================] - 59s 4ms/step\n",
      "Test Accuracy: 0.9203\n",
      "Classification Report for Test Data:\n",
      "              precision    recall  f1-score   support\n",
      "\n",
      "           0       0.81      0.88      0.84    128554\n",
      "           1       0.96      0.93      0.95    406890\n",
      "           2       0.67      1.00      0.80      1017\n",
      "           3       0.50      0.01      0.01       134\n",
      "\n",
      "    accuracy                           0.92    536595\n",
      "   macro avg       0.73      0.70      0.65    536595\n",
      "weighted avg       0.92      0.92      0.92    536595\n",
      "\n"
     ]
    }
   ],
   "source": [
    "# Evaluate the model on the test data and apply softmax for probabilities\n",
    "test_logits = model.predict(x_test)\n",
    "test_probabilities = tf.nn.softmax(test_logits, axis=-1)\n",
    "\n",
    "# Calculate accuracy for the test dataset\n",
    "test_accuracy = sum(tf.argmax(test_logits, axis=1).numpy() == y_test) / len(y_test)\n",
    "\n",
    "# Print test accuracy\n",
    "print(f'Test Accuracy: {test_accuracy:.4f}')\n",
    "\n",
    "# Generate a classification report for the test dataset\n",
    "test_report = classification_report(y_test, tf.argmax(test_logits, axis=1).numpy())\n",
    "\n",
    "# Print the classification report\n",
    "print(\"Classification Report for Test Data:\")\n",
    "print(test_report)\n",
    "\n",
    "del test_logits\n",
    "del test_probabilities\n",
    "del test_accuracy\n",
    "del test_report"
   ]
  },
  {
   "cell_type": "code",
   "execution_count": null,
   "id": "a46aba90",
   "metadata": {
    "papermill": {
     "duration": 8.202023,
     "end_time": "2023-10-28T21:07:54.462688",
     "exception": false,
     "start_time": "2023-10-28T21:07:46.260665",
     "status": "completed"
    },
    "tags": []
   },
   "outputs": [],
   "source": []
  }
 ],
 "metadata": {
  "kernelspec": {
   "display_name": "Python 3",
   "language": "python",
   "name": "python3"
  },
  "language_info": {
   "codemirror_mode": {
    "name": "ipython",
    "version": 3
   },
   "file_extension": ".py",
   "mimetype": "text/x-python",
   "name": "python",
   "nbconvert_exporter": "python",
   "pygments_lexer": "ipython3",
   "version": "3.10.12"
  },
  "papermill": {
   "default_parameters": {},
   "duration": 6271.530867,
   "end_time": "2023-10-28T21:08:05.913715",
   "environment_variables": {},
   "exception": null,
   "input_path": "__notebook__.ipynb",
   "output_path": "__notebook__.ipynb",
   "parameters": {},
   "start_time": "2023-10-28T19:23:34.382848",
   "version": "2.4.0"
  }
 },
 "nbformat": 4,
 "nbformat_minor": 5
}
